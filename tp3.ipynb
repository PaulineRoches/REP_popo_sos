{
 "cells": [
  {
   "cell_type": "markdown",
   "metadata": {},
   "source": [
    "TP3"
   ]
  },
  {
   "cell_type": "markdown",
   "metadata": {},
   "source": [
    "Facteurs de variabilité :\n",
    "- compilateur\n",
    "- fonction de randomnisation\n",
    "- type (double ou float ou int)\n",
    "- langage (vu dans le TP1 (cf dossier TP1))\n",
    "- processeur (pour les nombres à virgule flottante)\n",
    "- le nombre d'expériences"
   ]
  },
  {
   "cell_type": "markdown",
   "metadata": {},
   "source": [
    "Sur la branche main, avec 50 000 expérimentations, le résultat est d'environ 92%."
   ]
  },
  {
   "cell_type": "markdown",
   "metadata": {},
   "source": [
    "En utilisant le compilateur clang à la place de gcc, nous avons obtenu un résultat de 92.83% de réussite, ce qui est comparable aux résultats obtenus avec gcc.\n",
    "Dans notre cas, le compilateur ne semble pas être un grand facteur de variabilité."
   ]
  },
  {
   "cell_type": "markdown",
   "metadata": {},
   "source": [
    "En utilisant la fonction drand48() à la place de rand(), nous avons obtenu un résultat de 81.35% de réussite, ce qui montre un grand impact de la fonction de randomnisation puisque nous perdons 10 points de pourcentage, ce qui est considérable."
   ]
  }
 ],
 "metadata": {
  "language_info": {
   "name": "python"
  }
 },
 "nbformat": 4,
 "nbformat_minor": 2
}
