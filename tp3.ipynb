{
 "cells": [
  {
   "cell_type": "markdown",
   "metadata": {},
   "source": [
    "TP3"
   ]
  },
  {
   "cell_type": "markdown",
   "metadata": {},
   "source": [
    "Facteurs de variabilité :\n",
    "- compilateur\n",
    "- fonction de randomnisation\n",
    "- type (double ou float ou int)\n",
    "- langage (vu dans le TP1 (cf dossier TP1))\n",
    "- processeur (pour les nombres à virgule flottante)\n",
    "- le nombre d'expériences"
   ]
  },
  {
   "cell_type": "markdown",
   "metadata": {},
   "source": [
    "Sur la branche main, avec 50 000 expérimentations, le résultat est d'environ 92%."
   ]
  },
  {
   "cell_type": "markdown",
   "metadata": {},
   "source": [
    "En utilisant le compilateur clang à la place de gcc, nous avons obtenu un résultat de 92.83% de réussite, ce qui est comparable aux résultats obtenus avec gcc.\n",
    "Dans notre cas, le compilateur ne semble pas être un grand facteur de variabilité."
   ]
  },
  {
   "cell_type": "markdown",
   "metadata": {},
   "source": [
    "En utilisant la fonction drand48() à la place de rand(), nous avons obtenu un résultat de 100% de réussite, ce qui montre un grand impact de la fonction de randomnisation mais qui questionne surtout la réelle randomnisation de cette fonction suite à un tel résultat."
   ]
  },
  {
   "cell_type": "markdown",
   "metadata": {},
   "source": [
    "Nous avons fait varier plusieurs paramètres de notre code grâce à un template afin d'évaluer les impacts de chacun sur les résultats obtenus.\n",
    "- La fonction de randomnisation : comme remarqué précédemment, appliquer une autre fonction de randomnisation que rand() conduit à un résultat de 100%, dont le pourcentage constant et aussi élevé pose question quand à l'intérêt de varier ce paramètre. C'est pourquoi, dans la suite de l'analyse, nous ne tiendrons pas compte de ce paramètre.\n",
    "- Le type de nombre : en appliquant des int à la place des doubles, nous obtenons aussi un résultat de 100%. En utilisant des float à la place des doubles, le résultat est similaire (moins d'un point de pourcentage d'écart) à autres paramètres égaux. Le paramètre va donc lui aussi être écarté de la suite de l'analyse pour les mêmes raisons que pour la fonction de randomnisation. Ce paramètre ne semble surtout ne pas avoir d'impact sur les résultats.\n",
    "- Les bornes (min et max): en faisant varier les bornes et donc l'intervalle de sélection des entiers, les résultats semblent varier de manière beaucoup plus importante. Nous avions comme intervalle de départ (200-100) et en l'augmentant à (2000-0) nous perdons presque 20 points de pourcentage sur les résultats du taux d'associativité ce qui est considérable. De la même manière, en la réduisant à (50- -50), les résultats semblent tendre vers 75-80% de réussite. Après de nombreuses variations des résultats, il semblerait que des résultats plus proches de 0 ainsi qu'un intervalle plus important ont tendance à réduire le taux d'associativité. \n",
    "- Le nombre d'expériences : en faisant varier le nombre d'expériences, il semblerait qu'à partir d'environ 300 expériences, les résultats soient plutôt stables. A partir de 500, les résultats varient de moins de deux point de pourcentage (entre 2 et 3 pour 300). En revanche, pour un nombre d'expériences inférieur à 300, les résultats varient beaucoup plus et en sont pas stables. Ainsi, varier le nombre d'expériences est un facteur influent lorsqu'il est inférieur à 300, dans le cas contraire, les résultats sont assez similaires.\n"
   ]
  }
 ],
 "metadata": {
  "language_info": {
   "name": "python"
  }
 },
 "nbformat": 4,
 "nbformat_minor": 2
}
