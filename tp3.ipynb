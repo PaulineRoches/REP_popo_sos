{
 "cells": [
  {
   "cell_type": "markdown",
   "metadata": {},
   "source": [
    "TP3"
   ]
  },
  {
   "cell_type": "markdown",
   "metadata": {},
   "source": [
    "Avec nos paramètres de départ, le résultat est d'environ 92%.\n",
    "Nos facteurs sont : \n",
    "- fonction de randomnisation : rand() / RAND_MAX\n",
    "- type : double\n",
    "- borne max : 200\n",
    "- borne min : 100\n",
    "- nombre d'expériences : 50 000"
   ]
  },
  {
   "cell_type": "markdown",
   "metadata": {},
   "source": [
    "Nous allons modifier ces paramètres afin d'étudier leur impact sur le résultat du taux d'associativité."
   ]
  },
  {
   "cell_type": "markdown",
   "metadata": {},
   "source": [
    "Facteurs de variabilité identifiés:\n",
    "- compilateur\n",
    "- fonction de randomnisation\n",
    "- type (double ou float ou int)\n",
    "- langage (vu dans le TP1 (cf dossier TP1))\n",
    "- processeur (pour les nombres à virgule flottante)\n",
    "- le nombre d'expériences\n",
    "- intervalle de nombres random"
   ]
  },
  {
   "cell_type": "markdown",
   "metadata": {},
   "source": [
    "En utilisant le compilateur clang à la place de gcc, nous avons obtenu un résultat de 92.83% de réussite, ce qui est comparable aux résultats obtenus avec gcc.\n",
    "Dans notre cas, le compilateur ne semble pas être un grand facteur de variabilité."
   ]
  },
  {
   "cell_type": "markdown",
   "metadata": {},
   "source": [
    "En utilisant la fonction drand48() à la place de rand(), nous avons obtenu un résultat de 100% de réussite. Cependant, après avoir fait varier les autres paramètres, nous avons constaté que ce résultat n'est valable que pour l'intervalle [100,200]. Pour d'autres intervalles (même de la même taille), les résultats varient plus. On observe toujours une convergence des taux d'associativité en fonction de l'intervalle : en faisant plusieurs fois l'expérience pour les mêmes paramètres, les taux varient de moins d'un point de pourcentage."
   ]
  },
  {
   "cell_type": "markdown",
   "metadata": {},
   "source": [
    "Après avoir testé quelques paramètres un par un, nous allons passer à une approche plus globale. Les résultats sont stockés dans deux fichiers différents :\n",
    "- resultats_associativite_etendu.csv : teste toutes les combinaisons de nos facteurs de variabilité\n",
    "- resultats_associativite.csv : set représentatif du fichier resultats_associativite_etendu qui nous permet d'avoir des résultats pertinents afin de voir plus simplement les différences que les facteurs impliquent."
   ]
  },
  {
   "cell_type": "markdown",
   "metadata": {},
   "source": [
    "Nous avons fait varier plusieurs paramètres de notre code grâce à un template afin d'évaluer les impacts de chacun sur les résultats obtenus.\n",
    "- La fonction de randomnisation : comme remarqué précédemment, appliquer une autre fonction de randomnisation que rand() permet de faire varier les résultats mais les taux restent assez similaires si l'intervalle ne change pas. \n",
    "- Le type de nombre : en appliquant des int à la place des doubles, nous obtenons un résultat de 100%. En utilisant des float à la place des doubles, le résultat est similaire aux taux avec des doubles (moins d'un point de pourcentage d'écart) à autres paramètres égaux. Le paramètre va donc être écarté de la suite de l'analyse puisqu'il renvoit soit toujours 100%, soit sensiblement les mêmes résultats.\n",
    "- Les bornes (min et max): en faisant varier les bornes et donc l'intervalle de sélection des entiers, les résultats semblent varier de manière beaucoup plus importante. Nous avions comme intervalle de départ [100,200] et en l'augmentant à [0,2000] nous perdons presque 20 points de pourcentage sur les résultats du taux d'associativité, ce qui est considérable. De la même manière, en la réduisant à [-50,50], les résultats semblent tendre vers 75-80% de réussite. \n",
    "- Le nombre d'expériences : en faisant varier le nombre d'expériences, il semblerait qu'à partir d'environ 300 expériences, les résultats soient plutôt stables. A partir de 500, les résultats varient de moins de deux point de pourcentage (entre 2 et 3 pour 300). En revanche, pour un nombre d'expériences inférieur à 300, les résultats varient beaucoup plus et en sont pas stables. Ainsi, varier le nombre d'expériences est un facteur influent lorsqu'il est inférieur à 300, dans le cas contraire, les résultats sont assez similaires.\n"
   ]
  },
  {
   "cell_type": "markdown",
   "metadata": {},
   "source": [
    "Afin d'obtenir un résultat stable, nous recommandons les valeurs suivantes pour les paramètres :\n",
    "- La fonction de randomnisation : rand()/RAND_MAX\n",
    "- Le type : double\n",
    "- L'intervalle : [-80000,80000]\n",
    "- Le nombre d'expériences : 50000"
   ]
  }
 ],
 "metadata": {
  "language_info": {
   "name": "python"
  }
 },
 "nbformat": 4,
 "nbformat_minor": 2
}
