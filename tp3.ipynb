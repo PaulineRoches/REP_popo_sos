{
 "cells": [
  {
   "cell_type": "markdown",
   "metadata": {},
   "source": [
    "TP3"
   ]
  },
  {
   "cell_type": "markdown",
   "metadata": {},
   "source": [
    "Facteurs de variabilité :\n",
    "- compilateur\n",
    "- fonction de randomnisation\n",
    "- type (double ou float ou int)\n",
    "- langage (vu dans le TP1 (cf dossier TP1))\n",
    "- processeur (pour les nombres à virgule flottante)\n",
    "- le nombre d'expériences"
   ]
  }
 ],
 "metadata": {
  "language_info": {
   "name": "python"
  }
 },
 "nbformat": 4,
 "nbformat_minor": 2
}
